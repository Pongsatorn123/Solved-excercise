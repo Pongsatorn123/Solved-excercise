{
 "cells": [
  {
   "cell_type": "markdown",
   "id": "8e51fbb7",
   "metadata": {
    "scrolled": true
   },
   "source": [
    "# Assignment 2\n",
    "\n",
    "## 20 feb 2023\n",
    "\n",
    "**Pongsatorn Krabuansang**"
   ]
  },
  {
   "cell_type": "code",
   "execution_count": 5,
   "id": "a2b5aa8c",
   "metadata": {
    "scrolled": true
   },
   "outputs": [
    {
     "name": "stdout",
     "output_type": "stream",
     "text": [
      "129\n",
      "387\n",
      "149769\n",
      "The result of the calculation was:  149769\n"
     ]
    }
   ],
   "source": [
    "First_number = 100\n",
    "Second_number = 29\n",
    "x = First_number + Second_number\n",
    "print(x)\n",
    "y = x*3\n",
    "print(y)\n",
    "z = y**2\n",
    "print(z)\n",
    "print(\"The result of the calculation was: \",z)"
   ]
  },
  {
   "cell_type": "code",
   "execution_count": 7,
   "id": "4e34be58",
   "metadata": {},
   "outputs": [
    {
     "name": "stdout",
     "output_type": "stream",
     "text": [
      "What is your name?john\n",
      "john\n",
      "What is your year of birth?1995\n",
      "1995\n",
      "What is your age?26\n",
      "676\n",
      "Password is:  95joh676\n"
     ]
    }
   ],
   "source": [
    "x = input(\"What is your name?\")\n",
    "print(x)\n",
    "y = input(\"What is your year of birth?\")\n",
    "print(y)\n",
    "z = int(input(\"What is your age?\"))\n",
    "print(f'{z**2}')\n",
    "print(\"Password is: \", y[2:4] + x[0:3] + (f'{z**2}'))"
   ]
  },
  {
   "cell_type": "code",
   "execution_count": 8,
   "id": "2a62c962",
   "metadata": {},
   "outputs": [
    {
     "name": "stdout",
     "output_type": "stream",
     "text": [
      "Give a number between 1-10: 5\n",
      "5\n",
      "Give a number between 1-10: 6\n",
      "6\n",
      "one of the number is even\n"
     ]
    }
   ],
   "source": [
    "x = int(input(\"Give a number between 1-10: \"))\n",
    "print(x)\n",
    "y = int(input(\"Give a number between 1-10: \"))\n",
    "print(y)\n",
    "if x % 2 == 0 and y% 2 == 0:\n",
    "    print(\"Both numbers are even\")\n",
    "elif x % 2 == 0 and y% 2 > 0:\n",
    "    print(\"one of the number is even\")\n",
    "elif x % 2 > 0 and y% 2 == 0:\n",
    "    print(\"one of the number is even\")    \n",
    "elif x % 2 > 0 and y% 2 > 0:\n",
    "    print(\"Both numbers are odd\")"
   ]
  },
  {
   "cell_type": "code",
   "execution_count": 13,
   "id": "4b2787bb",
   "metadata": {},
   "outputs": [
    {
     "name": "stdout",
     "output_type": "stream",
     "text": [
      "Give a number : 5\n",
      "Sum of all positive numbers is  10\n",
      "0\n",
      "1\n",
      "2\n",
      "3\n",
      "4\n"
     ]
    }
   ],
   "source": [
    "x = int(input(\"Give a number : \"))  \n",
    "print(\"Sum of all positive numbers is \", x * (x - 1) // 2)\n",
    "for x in range (0,x):\n",
    "    print(x)"
   ]
  },
  {
   "cell_type": "code",
   "execution_count": 1,
   "id": "70e02b61",
   "metadata": {},
   "outputs": [
    {
     "name": "stdout",
     "output_type": "stream",
     "text": [
      "number between 1 and 10: 8\n",
      "try a smaller number\n",
      "number between 1 and 10: 6\n",
      "try a smaller number\n",
      "number between 1 and 10: 4\n",
      "try a smaller number\n",
      "number between 1 and 10: 3\n",
      "that's right!number of tries:  3\n"
     ]
    }
   ],
   "source": [
    "import random\n",
    "random_number = random.randint(1, 10)\n",
    "guesses = 0\n",
    "guess_answer = 0\n",
    "\n",
    "def user_guess():\n",
    "    guess = int(input(\"number between 1 and 10: \"))\n",
    "    return guess\n",
    "\n",
    "guess_answer = user_guess()\n",
    "\n",
    "while guess_answer != random_number:\n",
    "    if guess_answer > random_number:\n",
    "       print(\"try a smaller number\")\n",
    "       guesses += 1\n",
    "       guess_answer = user_guess()\n",
    "    elif guess_answer < random_number:\n",
    "       print(\"try a greater number\")\n",
    "       guesses += 1\n",
    "       guess_answer = user_guess()\n",
    "print(\"that's right!\" + \"number of tries: \", str(guesses))"
   ]
  },
  {
   "cell_type": "code",
   "execution_count": null,
   "id": "adef096f",
   "metadata": {},
   "outputs": [],
   "source": []
  }
 ],
 "metadata": {
  "kernelspec": {
   "display_name": "Python 3 (ipykernel)",
   "language": "python",
   "name": "python3"
  },
  "language_info": {
   "codemirror_mode": {
    "name": "ipython",
    "version": 3
   },
   "file_extension": ".py",
   "mimetype": "text/x-python",
   "name": "python",
   "nbconvert_exporter": "python",
   "pygments_lexer": "ipython3",
   "version": "3.9.13"
  }
 },
 "nbformat": 4,
 "nbformat_minor": 5
}
